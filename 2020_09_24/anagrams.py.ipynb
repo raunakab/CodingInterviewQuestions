{
 "cells": [
  {
   "cell_type": "code",
   "execution_count": 4,
   "metadata": {},
   "outputs": [
    {
     "data": {
      "text/plain": [
       "'adfs'"
      ]
     },
     "execution_count": 4,
     "metadata": {},
     "output_type": "execute_result"
    }
   ],
   "source": [
    "a = \"asdf\"\n",
    "\n",
    "a = \"\".join(sorted(a))\n",
    "\n",
    "a"
   ]
  },
  {
   "cell_type": "code",
   "execution_count": 11,
   "metadata": {},
   "outputs": [],
   "source": [
    "def areAnagrams(a,b):\n",
    "    if len(a) != len(b):\n",
    "        return False;\n",
    "\n",
    "    sorted_a = \"\".join(sorted(a))\n",
    "    sorted_b = \"\".join(sorted(b))\n",
    "    \n",
    "    return sorted_a == sorted_b"
   ]
  },
  {
   "cell_type": "code",
   "execution_count": 12,
   "metadata": {},
   "outputs": [
    {
     "name": "stdout",
     "output_type": "stream",
     "text": [
      "True\n",
      "True\n",
      "False\n",
      "False\n"
     ]
    }
   ],
   "source": [
    "result_0 = areAnagrams(\"asdf\",\"fdsa\")\n",
    "result_1 = areAnagrams(\"\",\"\")\n",
    "result_2 = areAnagrams(\"asdf\",\"\")\n",
    "result_3 = areAnagrams(\"as\",\"df\")\n",
    "\n",
    "print(result_0)\n",
    "print(result_1)\n",
    "print(result_2)\n",
    "print(result_3)"
   ]
  }
 ],
 "metadata": {
  "kernelspec": {
   "display_name": "Python 3",
   "language": "python",
   "name": "python3"
  },
  "language_info": {
   "codemirror_mode": {
    "name": "ipython",
    "version": 3
   },
   "file_extension": ".py",
   "mimetype": "text/x-python",
   "name": "python",
   "nbconvert_exporter": "python",
   "pygments_lexer": "ipython3",
   "version": "3.7.4"
  }
 },
 "nbformat": 4,
 "nbformat_minor": 4
}
